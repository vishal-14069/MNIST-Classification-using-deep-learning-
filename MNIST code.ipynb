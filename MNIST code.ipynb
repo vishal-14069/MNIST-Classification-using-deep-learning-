{
 "cells": [
  {
   "cell_type": "markdown",
   "metadata": {},
   "source": [
    "# MNIST Classification Model"
   ]
  },
  {
   "cell_type": "markdown",
   "metadata": {},
   "source": [
    "## Import the relevant packages"
   ]
  },
  {
   "cell_type": "code",
   "execution_count": 1,
   "metadata": {},
   "outputs": [],
   "source": [
    "import numpy as np\n",
    "import tensorflow as tf\n",
    "import tensorflow_datasets as tfds"
   ]
  },
  {
   "cell_type": "markdown",
   "metadata": {},
   "source": [
    "# Shuffle and split the data for better training of the data"
   ]
  },
  {
   "cell_type": "code",
   "execution_count": 2,
   "metadata": {},
   "outputs": [],
   "source": [
    "mnist_dataset, mnist_info = tfds.load(name='mnist', with_info=True, as_supervised=True)\n",
    "\n",
    "mnist_train_data, mnist_test_data= mnist_dataset['train'], mnist_dataset['test']\n",
    "\n",
    "num_validation_data= 0.1 * mnist_info.splits['train'].num_examples\n",
    "validation_data_64= tf.cast(num_validation_data, tf.int64)\n",
    "\n",
    "num_test_samples= mnist_info.splits['test'].num_examples\n",
    "num_test_samples= tf.cast(num_test_samples, tf.int64)"
   ]
  },
  {
   "cell_type": "code",
   "execution_count": 3,
   "metadata": {},
   "outputs": [],
   "source": [
    "def scale(image, label):\n",
    "    image= tf.cast(image, tf.float32)\n",
    "    image/= 255.\n",
    "    return image,label"
   ]
  },
  {
   "cell_type": "code",
   "execution_count": 4,
   "metadata": {},
   "outputs": [],
   "source": [
    "scaled_train_validation_data= mnist_train_data.map(scale)\n",
    "test_data= mnist_test_data.map(scale)"
   ]
  },
  {
   "cell_type": "code",
   "execution_count": 5,
   "metadata": {},
   "outputs": [
    {
     "name": "stderr",
     "output_type": "stream",
     "text": [
      "2022-09-06 14:42:24.154016: W tensorflow/core/platform/profile_utils/cpu_utils.cc:128] Failed to get CPU frequency: 0 Hz\n",
      "2022-09-06 14:42:24.496896: W tensorflow/core/kernels/data/cache_dataset_ops.cc:856] The calling iterator did not fully read the dataset being cached. In order to avoid unexpected truncation of the dataset, the partially cached contents of the dataset  will be discarded. This can happen if you have an input pipeline similar to `dataset.cache().take(k).repeat()`. You should use `dataset.take(k).cache().repeat()` instead.\n"
     ]
    }
   ],
   "source": [
    "buffer_size= 10000\n",
    "\n",
    "shuffled_train_validation_data= scaled_train_validation_data.shuffle(buffer_size)\n",
    "\n",
    "validation_data= shuffled_train_validation_data.take(validation_data_64)\n",
    "train_data= shuffled_train_validation_data.skip(validation_data_64)\n",
    "\n",
    "batch_size=100\n",
    "\n",
    "train_data= train_data.batch(batch_size)\n",
    "validation_data= validation_data.batch(validation_data_64)\n",
    "test_data= test_data.batch(num_test_samples)\n",
    "\n",
    "validation_inputs, validation_targets= next(iter(validation_data))"
   ]
  },
  {
   "cell_type": "markdown",
   "metadata": {},
   "source": [
    "# Model Outline"
   ]
  },
  {
   "cell_type": "code",
   "execution_count": 6,
   "metadata": {},
   "outputs": [],
   "source": [
    "input_size=784\n",
    "output_size= 10\n",
    "hidden_layer_size= 100\n",
    "\n",
    "model= tf.keras.Sequential([\n",
    "                            tf.keras.layers.Flatten(input_shape=(28,28,1)),\n",
    "                            tf.keras.layers.Dense(hidden_layer_size, activation='relu'),\n",
    "                            tf.keras.layers.Dense(hidden_layer_size,activation='relu'),\n",
    "                            tf.keras.layers.Dense(output_size,activation='softmax')\n",
    "                            ])"
   ]
  },
  {
   "cell_type": "code",
   "execution_count": 7,
   "metadata": {},
   "outputs": [],
   "source": [
    "model.compile(optimizer='adam',loss='sparse_categorical_crossentropy', metrics=['accuracy'])"
   ]
  },
  {
   "cell_type": "code",
   "execution_count": 9,
   "metadata": {},
   "outputs": [
    {
     "name": "stdout",
     "output_type": "stream",
     "text": [
      "Epoch 1/10\n",
      "540/540 - 1s - loss: 0.0487 - accuracy: 0.9848 - val_loss: 0.0472 - val_accuracy: 0.9858 - 1s/epoch - 3ms/step\n",
      "Epoch 2/10\n",
      "540/540 - 1s - loss: 0.0387 - accuracy: 0.9881 - val_loss: 0.0381 - val_accuracy: 0.9883 - 1s/epoch - 2ms/step\n",
      "Epoch 3/10\n",
      "540/540 - 1s - loss: 0.0348 - accuracy: 0.9894 - val_loss: 0.0397 - val_accuracy: 0.9883 - 1s/epoch - 2ms/step\n",
      "Epoch 4/10\n",
      "540/540 - 1s - loss: 0.0288 - accuracy: 0.9911 - val_loss: 0.0336 - val_accuracy: 0.9888 - 1s/epoch - 2ms/step\n",
      "Epoch 5/10\n",
      "540/540 - 1s - loss: 0.0248 - accuracy: 0.9922 - val_loss: 0.0265 - val_accuracy: 0.9902 - 1s/epoch - 2ms/step\n",
      "Epoch 6/10\n",
      "540/540 - 1s - loss: 0.0206 - accuracy: 0.9935 - val_loss: 0.0205 - val_accuracy: 0.9925 - 1s/epoch - 2ms/step\n",
      "Epoch 7/10\n",
      "540/540 - 1s - loss: 0.0187 - accuracy: 0.9940 - val_loss: 0.0233 - val_accuracy: 0.9925 - 1s/epoch - 2ms/step\n",
      "Epoch 8/10\n",
      "540/540 - 1s - loss: 0.0170 - accuracy: 0.9947 - val_loss: 0.0218 - val_accuracy: 0.9922 - 1s/epoch - 2ms/step\n",
      "Epoch 9/10\n",
      "540/540 - 1s - loss: 0.0150 - accuracy: 0.9956 - val_loss: 0.0140 - val_accuracy: 0.9952 - 1s/epoch - 2ms/step\n",
      "Epoch 10/10\n",
      "540/540 - 1s - loss: 0.0149 - accuracy: 0.9954 - val_loss: 0.0136 - val_accuracy: 0.9962 - 1s/epoch - 2ms/step\n"
     ]
    },
    {
     "data": {
      "text/plain": [
       "<keras.callbacks.History at 0x16b432920>"
      ]
     },
     "execution_count": 9,
     "metadata": {},
     "output_type": "execute_result"
    }
   ],
   "source": [
    "num_epochs=10\n",
    "\n",
    "model.fit(train_data,epochs=num_epochs,validation_data= (validation_inputs,validation_targets),verbose=2)\n",
    "\n"
   ]
  },
  {
   "cell_type": "code",
   "execution_count": 10,
   "metadata": {},
   "outputs": [
    {
     "name": "stdout",
     "output_type": "stream",
     "text": [
      "1/1 [==============================] - 0s 380ms/step - loss: 0.0864 - accuracy: 0.9788\n",
      "Test loss: 0.09. Test accuracy: 97.88%\n"
     ]
    }
   ],
   "source": [
    "test_loss, test_accuracy = model.evaluate(test_data)\n",
    "print('Test loss: {0:.2f}. Test accuracy: {1:.2f}%'.format(test_loss, test_accuracy*100.))"
   ]
  },
  {
   "cell_type": "markdown",
   "metadata": {},
   "source": [
    "## Final Testing Parameters \n",
    "## Accuracy :97.88 %\n",
    "## Loss : 8.64%\n"
   ]
  },
  {
   "cell_type": "code",
   "execution_count": null,
   "metadata": {},
   "outputs": [],
   "source": []
  }
 ],
 "metadata": {
  "kernelspec": {
   "display_name": "Python 3 (ipykernel)",
   "language": "python",
   "name": "python3"
  },
  "language_info": {
   "codemirror_mode": {
    "name": "ipython",
    "version": 3
   },
   "file_extension": ".py",
   "mimetype": "text/x-python",
   "name": "python",
   "nbconvert_exporter": "python",
   "pygments_lexer": "ipython3",
   "version": "3.10.6"
  }
 },
 "nbformat": 4,
 "nbformat_minor": 4
}
